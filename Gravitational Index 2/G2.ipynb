{
  "nbformat": 4,
  "nbformat_minor": 0,
  "metadata": {
    "colab": {
      "provenance": []
    },
    "kernelspec": {
      "name": "python3",
      "display_name": "Python 3"
    },
    "language_info": {
      "name": "python"
    }
  },
  "cells": [
    {
      "cell_type": "code",
      "execution_count": null,
      "metadata": {
        "id": "rJewbeAv9ACE"
      },
      "outputs": [],
      "source": [
        "#imports\n",
        "import numpy as np\n",
        "!pip install rdkit\n",
        "from rdkit import Chem\n",
        "from rdkit.Chem import AllChem"
      ]
    },
    {
      "cell_type": "code",
      "source": [
        "#defining function for G2\n",
        "\n",
        "def GravitationalIndexG2(mol):\n",
        "  sum=0\n",
        "  for b in mol.GetBonds():\n",
        "    m1=b.GetBeginAtom()\n",
        "    m2=b.GetEndAtom()\n",
        "    mass1=m1.GetMass()\n",
        "    mass2=m2.GetMass()\n",
        "\n",
        "    AllChem.EmbedMolecule(mol)\n",
        "    AllChem.MMFFOptimizeMolecule(mol)\n",
        "    conf = mol.GetConformer(0)\n",
        "\n",
        "    at1Coords = np.array(conf.GetAtomPosition(m1.GetIdx()))\n",
        "    at2Coords = np.array(conf.GetAtomPosition(m2.GetIdx()))\n",
        "    r=np.linalg.norm(at2Coords - at1Coords)\n",
        "    sum=sum+((mass1*mass2)/r**2)\n",
        "  return(sum)\n",
        "     "
      ],
      "metadata": {
        "id": "gOYWoH0U9Tre"
      },
      "execution_count": null,
      "outputs": []
    }
  ]
}